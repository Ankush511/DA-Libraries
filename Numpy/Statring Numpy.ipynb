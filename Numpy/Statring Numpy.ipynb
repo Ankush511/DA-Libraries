{
 "cells": [
  {
   "cell_type": "code",
   "execution_count": 2,
   "id": "4d8c5dd3",
   "metadata": {},
   "outputs": [],
   "source": [
    "import numpy as np"
   ]
  },
  {
   "cell_type": "code",
   "execution_count": 2,
   "id": "95d7a463",
   "metadata": {},
   "outputs": [],
   "source": [
    "lst = [[1,2,3],\n",
    "       [1,2,3]]"
   ]
  },
  {
   "cell_type": "code",
   "execution_count": 3,
   "id": "b657f098",
   "metadata": {},
   "outputs": [
    {
     "data": {
      "text/plain": [
       "list"
      ]
     },
     "execution_count": 3,
     "metadata": {},
     "output_type": "execute_result"
    }
   ],
   "source": [
    "type(lst)"
   ]
  },
  {
   "cell_type": "code",
   "execution_count": 4,
   "id": "e8ad940d",
   "metadata": {},
   "outputs": [],
   "source": [
    "arr = np.array(lst)"
   ]
  },
  {
   "cell_type": "code",
   "execution_count": 5,
   "id": "1f3bdfc8",
   "metadata": {},
   "outputs": [
    {
     "data": {
      "text/plain": [
       "array([[1, 2, 3],\n",
       "       [1, 2, 3]])"
      ]
     },
     "execution_count": 5,
     "metadata": {},
     "output_type": "execute_result"
    }
   ],
   "source": [
    "arr"
   ]
  },
  {
   "cell_type": "code",
   "execution_count": 6,
   "id": "67c280cc",
   "metadata": {},
   "outputs": [
    {
     "data": {
      "text/plain": [
       "numpy.ndarray"
      ]
     },
     "execution_count": 6,
     "metadata": {},
     "output_type": "execute_result"
    }
   ],
   "source": [
    "type(arr)"
   ]
  },
  {
   "cell_type": "code",
   "execution_count": 7,
   "id": "7d1c9d2f",
   "metadata": {},
   "outputs": [
    {
     "data": {
      "text/plain": [
       "2"
      ]
     },
     "execution_count": 7,
     "metadata": {},
     "output_type": "execute_result"
    }
   ],
   "source": [
    "arr.ndim"
   ]
  },
  {
   "cell_type": "code",
   "execution_count": 8,
   "id": "2ff108f8",
   "metadata": {},
   "outputs": [
    {
     "data": {
      "text/plain": [
       "6"
      ]
     },
     "execution_count": 8,
     "metadata": {},
     "output_type": "execute_result"
    }
   ],
   "source": [
    "arr.size"
   ]
  },
  {
   "cell_type": "code",
   "execution_count": 9,
   "id": "f2b0c3ac",
   "metadata": {},
   "outputs": [
    {
     "data": {
      "text/plain": [
       "dtype('int64')"
      ]
     },
     "execution_count": 9,
     "metadata": {},
     "output_type": "execute_result"
    }
   ],
   "source": [
    "arr.dtype"
   ]
  },
  {
   "cell_type": "code",
   "execution_count": 10,
   "id": "6477c9cc",
   "metadata": {},
   "outputs": [
    {
     "data": {
      "text/plain": [
       "(2, 3)"
      ]
     },
     "execution_count": 10,
     "metadata": {},
     "output_type": "execute_result"
    }
   ],
   "source": [
    "arr.shape"
   ]
  },
  {
   "cell_type": "code",
   "execution_count": 11,
   "id": "13db84f6",
   "metadata": {},
   "outputs": [],
   "source": [
    "zeroes = np.zeros((2,4))"
   ]
  },
  {
   "cell_type": "code",
   "execution_count": 12,
   "id": "b6fba9b7",
   "metadata": {},
   "outputs": [
    {
     "data": {
      "text/plain": [
       "array([[0., 0., 0., 0.],\n",
       "       [0., 0., 0., 0.]])"
      ]
     },
     "execution_count": 12,
     "metadata": {},
     "output_type": "execute_result"
    }
   ],
   "source": [
    "zeroes"
   ]
  },
  {
   "cell_type": "code",
   "execution_count": 13,
   "id": "97afab6b",
   "metadata": {},
   "outputs": [],
   "source": [
    "ones = np.ones((2,3))"
   ]
  },
  {
   "cell_type": "code",
   "execution_count": 14,
   "id": "c7796727",
   "metadata": {},
   "outputs": [
    {
     "data": {
      "text/plain": [
       "array([[1., 1., 1.],\n",
       "       [1., 1., 1.]])"
      ]
     },
     "execution_count": 14,
     "metadata": {},
     "output_type": "execute_result"
    }
   ],
   "source": [
    "ones"
   ]
  },
  {
   "cell_type": "markdown",
   "id": "f11bc277",
   "metadata": {},
   "source": [
    "# Random Number Generating"
   ]
  },
  {
   "cell_type": "code",
   "execution_count": 19,
   "id": "f1b4ce73",
   "metadata": {},
   "outputs": [],
   "source": [
    "arr = np.random.random((3,2))"
   ]
  },
  {
   "cell_type": "code",
   "execution_count": 16,
   "id": "7825b264",
   "metadata": {},
   "outputs": [
    {
     "data": {
      "text/plain": [
       "0.6575797826095554"
      ]
     },
     "execution_count": 16,
     "metadata": {},
     "output_type": "execute_result"
    }
   ],
   "source": [
    "np.random.random()"
   ]
  },
  {
   "cell_type": "code",
   "execution_count": 17,
   "id": "d741dd8a",
   "metadata": {},
   "outputs": [
    {
     "data": {
      "text/plain": [
       "array([1, 3, 5, 7, 9])"
      ]
     },
     "execution_count": 17,
     "metadata": {},
     "output_type": "execute_result"
    }
   ],
   "source": [
    "np.arange(1,10,2)"
   ]
  },
  {
   "cell_type": "code",
   "execution_count": 26,
   "id": "a24658ed",
   "metadata": {},
   "outputs": [
    {
     "data": {
      "text/plain": [
       "array([1. , 1.6, 2.2, 2.8, 3.4, 4. ])"
      ]
     },
     "execution_count": 26,
     "metadata": {},
     "output_type": "execute_result"
    }
   ],
   "source": [
    "np.linspace(1,4,6)"
   ]
  },
  {
   "cell_type": "code",
   "execution_count": 23,
   "id": "7b5a124c",
   "metadata": {},
   "outputs": [],
   "source": [
    "arr = np.reshape(arr, (2,3))"
   ]
  },
  {
   "cell_type": "code",
   "execution_count": 24,
   "id": "0943c1f7",
   "metadata": {},
   "outputs": [
    {
     "data": {
      "text/plain": [
       "array([[0.86328179, 0.36243566, 0.19327225],\n",
       "       [0.76172881, 0.1291398 , 0.27242302]])"
      ]
     },
     "execution_count": 24,
     "metadata": {},
     "output_type": "execute_result"
    }
   ],
   "source": [
    "arr"
   ]
  },
  {
   "cell_type": "code",
   "execution_count": 25,
   "id": "7daa3e59",
   "metadata": {},
   "outputs": [
    {
     "data": {
      "text/plain": [
       "array([0.86328179, 0.36243566, 0.19327225, 0.76172881, 0.1291398 ,\n",
       "       0.27242302])"
      ]
     },
     "execution_count": 25,
     "metadata": {},
     "output_type": "execute_result"
    }
   ],
   "source": [
    "arr.flatten()"
   ]
  },
  {
   "cell_type": "markdown",
   "id": "9d3b6cba",
   "metadata": {},
   "source": [
    "# Arithmetic Operations"
   ]
  },
  {
   "cell_type": "code",
   "execution_count": 30,
   "id": "a6827dd7",
   "metadata": {},
   "outputs": [],
   "source": [
    "arr = np.array([1,2,3,4,5,6])"
   ]
  },
  {
   "cell_type": "code",
   "execution_count": 31,
   "id": "53967816",
   "metadata": {},
   "outputs": [
    {
     "data": {
      "text/plain": [
       "array([1, 2, 3, 4, 5, 6])"
      ]
     },
     "execution_count": 31,
     "metadata": {},
     "output_type": "execute_result"
    }
   ],
   "source": [
    "arr"
   ]
  },
  {
   "cell_type": "code",
   "execution_count": 32,
   "id": "b486a99e",
   "metadata": {},
   "outputs": [
    {
     "name": "stdout",
     "output_type": "stream",
     "text": [
      "[2 3 4 5 6 7]\n",
      "[0 1 2 3 4 5]\n",
      "[ 2  4  6  8 10 12]\n",
      "[0.5 1.  1.5 2.  2.5 3. ]\n",
      "[ 1  4  9 16 25 36]\n"
     ]
    }
   ],
   "source": [
    "print(arr + 1)\n",
    "print(arr - 1)\n",
    "print(arr * 2)\n",
    "print(arr / 2)\n",
    "print(arr ** 2)"
   ]
  },
  {
   "cell_type": "code",
   "execution_count": 33,
   "id": "3cb59251",
   "metadata": {},
   "outputs": [
    {
     "data": {
      "text/plain": [
       "6"
      ]
     },
     "execution_count": 33,
     "metadata": {},
     "output_type": "execute_result"
    }
   ],
   "source": [
    "arr.max()"
   ]
  },
  {
   "cell_type": "code",
   "execution_count": 34,
   "id": "31c506dc",
   "metadata": {},
   "outputs": [
    {
     "data": {
      "text/plain": [
       "1"
      ]
     },
     "execution_count": 34,
     "metadata": {},
     "output_type": "execute_result"
    }
   ],
   "source": [
    "arr.min()"
   ]
  },
  {
   "cell_type": "code",
   "execution_count": 35,
   "id": "f60b6e85",
   "metadata": {},
   "outputs": [
    {
     "data": {
      "text/plain": [
       "21"
      ]
     },
     "execution_count": 35,
     "metadata": {},
     "output_type": "execute_result"
    }
   ],
   "source": [
    "arr.sum()"
   ]
  },
  {
   "cell_type": "code",
   "execution_count": 37,
   "id": "f167a6fe",
   "metadata": {},
   "outputs": [],
   "source": [
    "arr2 = np.array([[1,2,3],\n",
    "               [4,5,6],\n",
    "               [7,8,9]])"
   ]
  },
  {
   "cell_type": "code",
   "execution_count": 38,
   "id": "65c479cf",
   "metadata": {},
   "outputs": [
    {
     "data": {
      "text/plain": [
       "array([7, 8, 9])"
      ]
     },
     "execution_count": 38,
     "metadata": {},
     "output_type": "execute_result"
    }
   ],
   "source": [
    "arr2.max(axis = 0)"
   ]
  },
  {
   "cell_type": "code",
   "execution_count": 39,
   "id": "ac39da9a",
   "metadata": {},
   "outputs": [
    {
     "data": {
      "text/plain": [
       "array([3, 6, 9])"
      ]
     },
     "execution_count": 39,
     "metadata": {},
     "output_type": "execute_result"
    }
   ],
   "source": [
    "arr2.max(axis = 1)"
   ]
  },
  {
   "cell_type": "code",
   "execution_count": 40,
   "id": "d112d6f1",
   "metadata": {},
   "outputs": [
    {
     "data": {
      "text/plain": [
       "array([1, 2, 3])"
      ]
     },
     "execution_count": 40,
     "metadata": {},
     "output_type": "execute_result"
    }
   ],
   "source": [
    "arr2.min(axis = 0)"
   ]
  },
  {
   "cell_type": "code",
   "execution_count": 41,
   "id": "dadecbae",
   "metadata": {},
   "outputs": [
    {
     "data": {
      "text/plain": [
       "array([1, 4, 7])"
      ]
     },
     "execution_count": 41,
     "metadata": {},
     "output_type": "execute_result"
    }
   ],
   "source": [
    "arr2.min(axis = 1)"
   ]
  },
  {
   "cell_type": "code",
   "execution_count": 42,
   "id": "8f8b7e7e",
   "metadata": {},
   "outputs": [
    {
     "data": {
      "text/plain": [
       "45"
      ]
     },
     "execution_count": 42,
     "metadata": {},
     "output_type": "execute_result"
    }
   ],
   "source": [
    "arr2.sum()"
   ]
  },
  {
   "cell_type": "markdown",
   "id": "d8651218",
   "metadata": {},
   "source": [
    "# Array Sorting Methods"
   ]
  },
  {
   "cell_type": "code",
   "execution_count": 47,
   "id": "90ecf104",
   "metadata": {},
   "outputs": [],
   "source": [
    "arr = np.array([[7,3,8,6,4],\n",
    "                [7,2,9,8,6],\n",
    "                [5,4,2,3,1]])"
   ]
  },
  {
   "cell_type": "code",
   "execution_count": 48,
   "id": "be1acf62",
   "metadata": {},
   "outputs": [
    {
     "data": {
      "text/plain": [
       "array([[7, 3, 8, 6, 4],\n",
       "       [7, 2, 9, 8, 6],\n",
       "       [5, 4, 2, 3, 1]])"
      ]
     },
     "execution_count": 48,
     "metadata": {},
     "output_type": "execute_result"
    }
   ],
   "source": [
    "arr"
   ]
  },
  {
   "cell_type": "code",
   "execution_count": 49,
   "id": "f6d403e0",
   "metadata": {},
   "outputs": [
    {
     "data": {
      "text/plain": [
       "array([[3, 4, 6, 7, 8],\n",
       "       [2, 6, 7, 8, 9],\n",
       "       [1, 2, 3, 4, 5]])"
      ]
     },
     "execution_count": 49,
     "metadata": {},
     "output_type": "execute_result"
    }
   ],
   "source": [
    "np.sort(arr, axis = 1, kind = 'mergesort')"
   ]
  },
  {
   "cell_type": "code",
   "execution_count": 50,
   "id": "4cbef2e2",
   "metadata": {},
   "outputs": [
    {
     "data": {
      "text/plain": [
       "array([[5, 2, 2, 3, 1],\n",
       "       [7, 3, 8, 6, 4],\n",
       "       [7, 4, 9, 8, 6]])"
      ]
     },
     "execution_count": 50,
     "metadata": {},
     "output_type": "execute_result"
    }
   ],
   "source": [
    "np.sort(arr, axis = 0, kind = 'mergesort')"
   ]
  },
  {
   "cell_type": "markdown",
   "id": "ef084e73",
   "metadata": {},
   "source": [
    "# Array Merging & Splitting"
   ]
  },
  {
   "cell_type": "code",
   "execution_count": 51,
   "id": "8fa2190a",
   "metadata": {},
   "outputs": [],
   "source": [
    "arr1 = np.array([[1,2,3],\n",
    "                 [4,5,6]])\n",
    "\n",
    "arr2 = np.array([[7,8,9],\n",
    "                 [10,11,12]])"
   ]
  },
  {
   "cell_type": "code",
   "execution_count": 58,
   "id": "34685ad2",
   "metadata": {},
   "outputs": [],
   "source": [
    "arr = np.vstack((arr1,arr2))"
   ]
  },
  {
   "cell_type": "code",
   "execution_count": 53,
   "id": "93903eb4",
   "metadata": {},
   "outputs": [
    {
     "data": {
      "text/plain": [
       "array([[ 7,  8,  9],\n",
       "       [10, 11, 12],\n",
       "       [ 1,  2,  3],\n",
       "       [ 4,  5,  6]])"
      ]
     },
     "execution_count": 53,
     "metadata": {},
     "output_type": "execute_result"
    }
   ],
   "source": [
    "np.vstack((arr2, arr1))"
   ]
  },
  {
   "cell_type": "code",
   "execution_count": 54,
   "id": "5e39f2d4",
   "metadata": {},
   "outputs": [
    {
     "data": {
      "text/plain": [
       "array([[ 1,  2,  3,  7,  8,  9],\n",
       "       [ 4,  5,  6, 10, 11, 12]])"
      ]
     },
     "execution_count": 54,
     "metadata": {},
     "output_type": "execute_result"
    }
   ],
   "source": [
    "np.hstack((arr1,arr2))"
   ]
  },
  {
   "cell_type": "code",
   "execution_count": 55,
   "id": "d24280ea",
   "metadata": {},
   "outputs": [
    {
     "data": {
      "text/plain": [
       "array([[ 7,  8,  9,  1,  2,  3],\n",
       "       [10, 11, 12,  4,  5,  6]])"
      ]
     },
     "execution_count": 55,
     "metadata": {},
     "output_type": "execute_result"
    }
   ],
   "source": [
    "np.hstack((arr2,arr1))"
   ]
  },
  {
   "cell_type": "code",
   "execution_count": 56,
   "id": "cc66b889",
   "metadata": {},
   "outputs": [
    {
     "data": {
      "text/plain": [
       "array([[ 1,  2,  3],\n",
       "       [ 4,  5,  6],\n",
       "       [ 7,  8,  9],\n",
       "       [10, 11, 12]])"
      ]
     },
     "execution_count": 56,
     "metadata": {},
     "output_type": "execute_result"
    }
   ],
   "source": [
    "np.concatenate((arr1,arr2), axis = 0)"
   ]
  },
  {
   "cell_type": "code",
   "execution_count": 57,
   "id": "8b53908e",
   "metadata": {},
   "outputs": [
    {
     "data": {
      "text/plain": [
       "array([[ 1,  2,  3,  7,  8,  9],\n",
       "       [ 4,  5,  6, 10, 11, 12]])"
      ]
     },
     "execution_count": 57,
     "metadata": {},
     "output_type": "execute_result"
    }
   ],
   "source": [
    "np.concatenate((arr1,arr2), axis = 1)"
   ]
  },
  {
   "cell_type": "code",
   "execution_count": 59,
   "id": "0518bb44",
   "metadata": {},
   "outputs": [
    {
     "data": {
      "text/plain": [
       "array([[ 1,  2,  3],\n",
       "       [ 4,  5,  6],\n",
       "       [ 7,  8,  9],\n",
       "       [10, 11, 12]])"
      ]
     },
     "execution_count": 59,
     "metadata": {},
     "output_type": "execute_result"
    }
   ],
   "source": [
    "arr"
   ]
  },
  {
   "cell_type": "code",
   "execution_count": 62,
   "id": "3021381c",
   "metadata": {},
   "outputs": [
    {
     "data": {
      "text/plain": [
       "[array([[1, 2, 3],\n",
       "        [4, 5, 6]]),\n",
       " array([[ 7,  8,  9],\n",
       "        [10, 11, 12]])]"
      ]
     },
     "execution_count": 62,
     "metadata": {},
     "output_type": "execute_result"
    }
   ],
   "source": [
    "np.vsplit(arr,2)"
   ]
  },
  {
   "cell_type": "markdown",
   "id": "2e2e9cc3",
   "metadata": {},
   "source": [
    "# Indexing, Slicing & Cropping"
   ]
  },
  {
   "cell_type": "code",
   "execution_count": 63,
   "id": "08d079f7",
   "metadata": {},
   "outputs": [],
   "source": [
    "arr = np.array([1,2,3,4,5,6,7,8])"
   ]
  },
  {
   "cell_type": "code",
   "execution_count": 64,
   "id": "6d0b5513",
   "metadata": {},
   "outputs": [
    {
     "data": {
      "text/plain": [
       "2"
      ]
     },
     "execution_count": 64,
     "metadata": {},
     "output_type": "execute_result"
    }
   ],
   "source": [
    "arr[1]"
   ]
  },
  {
   "cell_type": "code",
   "execution_count": 66,
   "id": "c4fc6179",
   "metadata": {},
   "outputs": [
    {
     "data": {
      "text/plain": [
       "array([1, 2, 3, 4, 5, 6, 7, 8])"
      ]
     },
     "execution_count": 66,
     "metadata": {},
     "output_type": "execute_result"
    }
   ],
   "source": [
    "arr[:]"
   ]
  },
  {
   "cell_type": "code",
   "execution_count": 67,
   "id": "b8b86bf8",
   "metadata": {},
   "outputs": [
    {
     "data": {
      "text/plain": [
       "array([2, 3, 4, 5, 6, 7, 8])"
      ]
     },
     "execution_count": 67,
     "metadata": {},
     "output_type": "execute_result"
    }
   ],
   "source": [
    "arr[1:]"
   ]
  },
  {
   "cell_type": "code",
   "execution_count": 68,
   "id": "e95bce99",
   "metadata": {},
   "outputs": [
    {
     "data": {
      "text/plain": [
       "7"
      ]
     },
     "execution_count": 68,
     "metadata": {},
     "output_type": "execute_result"
    }
   ],
   "source": [
    "arr[-2]"
   ]
  },
  {
   "cell_type": "code",
   "execution_count": 69,
   "id": "e1ac4589",
   "metadata": {},
   "outputs": [
    {
     "data": {
      "text/plain": [
       "array([1, 2, 3, 4, 5, 6])"
      ]
     },
     "execution_count": 69,
     "metadata": {},
     "output_type": "execute_result"
    }
   ],
   "source": [
    "arr[: -2]"
   ]
  },
  {
   "cell_type": "code",
   "execution_count": 70,
   "id": "d391b3de",
   "metadata": {},
   "outputs": [
    {
     "data": {
      "text/plain": [
       "array([3, 4, 5, 6])"
      ]
     },
     "execution_count": 70,
     "metadata": {},
     "output_type": "execute_result"
    }
   ],
   "source": [
    "arr[2 : -2]"
   ]
  },
  {
   "cell_type": "code",
   "execution_count": 71,
   "id": "9aac213f",
   "metadata": {},
   "outputs": [],
   "source": [
    "arr = np.array([[1,2,3,4],[5,6,7,8],[8,7,6,5],[4,3,2,1]])"
   ]
  },
  {
   "cell_type": "code",
   "execution_count": 72,
   "id": "ec9b699c",
   "metadata": {},
   "outputs": [
    {
     "data": {
      "text/plain": [
       "array([[1, 2, 3, 4],\n",
       "       [5, 6, 7, 8],\n",
       "       [8, 7, 6, 5],\n",
       "       [4, 3, 2, 1]])"
      ]
     },
     "execution_count": 72,
     "metadata": {},
     "output_type": "execute_result"
    }
   ],
   "source": [
    "arr"
   ]
  },
  {
   "cell_type": "code",
   "execution_count": 73,
   "id": "929703bc",
   "metadata": {},
   "outputs": [
    {
     "data": {
      "text/plain": [
       "array([[1, 2, 3, 4],\n",
       "       [5, 6, 7, 8],\n",
       "       [8, 7, 6, 5],\n",
       "       [4, 3, 2, 1]])"
      ]
     },
     "execution_count": 73,
     "metadata": {},
     "output_type": "execute_result"
    }
   ],
   "source": [
    "arr[: , :]"
   ]
  },
  {
   "cell_type": "code",
   "execution_count": 74,
   "id": "95bff006",
   "metadata": {},
   "outputs": [
    {
     "data": {
      "text/plain": [
       "array([[5, 6, 7, 8],\n",
       "       [8, 7, 6, 5],\n",
       "       [4, 3, 2, 1]])"
      ]
     },
     "execution_count": 74,
     "metadata": {},
     "output_type": "execute_result"
    }
   ],
   "source": [
    "arr[1: , :]"
   ]
  },
  {
   "cell_type": "code",
   "execution_count": 75,
   "id": "d8a95f02",
   "metadata": {},
   "outputs": [
    {
     "data": {
      "text/plain": [
       "array([[1, 2, 3, 4]])"
      ]
     },
     "execution_count": 75,
     "metadata": {},
     "output_type": "execute_result"
    }
   ],
   "source": [
    "arr[:1 , :]"
   ]
  },
  {
   "cell_type": "code",
   "execution_count": 76,
   "id": "095c7690",
   "metadata": {},
   "outputs": [
    {
     "data": {
      "text/plain": [
       "array([[1, 2, 3, 4]])"
      ]
     },
     "execution_count": 76,
     "metadata": {},
     "output_type": "execute_result"
    }
   ],
   "source": [
    "arr[:1]"
   ]
  },
  {
   "cell_type": "code",
   "execution_count": 77,
   "id": "dfb5a1e8",
   "metadata": {},
   "outputs": [
    {
     "data": {
      "text/plain": [
       "array([[6, 7, 8],\n",
       "       [7, 6, 5],\n",
       "       [3, 2, 1]])"
      ]
     },
     "execution_count": 77,
     "metadata": {},
     "output_type": "execute_result"
    }
   ],
   "source": [
    "arr[1: , 1:]"
   ]
  },
  {
   "cell_type": "markdown",
   "id": "b7402ec3",
   "metadata": {},
   "source": [
    "# Automate using Numpy"
   ]
  },
  {
   "cell_type": "code",
   "execution_count": 78,
   "id": "23cb774b",
   "metadata": {},
   "outputs": [],
   "source": [
    "lst = [1,2,3,4,5,6,7,8,9,10]"
   ]
  },
  {
   "cell_type": "code",
   "execution_count": 79,
   "id": "fe2e0d5c",
   "metadata": {},
   "outputs": [
    {
     "name": "stdout",
     "output_type": "stream",
     "text": [
      "5\n"
     ]
    }
   ],
   "source": [
    "c = 0\n",
    "\n",
    "for i in lst:\n",
    "    if i > 5:\n",
    "        c += 1\n",
    "\n",
    "print(c)"
   ]
  },
  {
   "cell_type": "code",
   "execution_count": 80,
   "id": "4573352e",
   "metadata": {},
   "outputs": [],
   "source": [
    "lst = np.array(lst)"
   ]
  },
  {
   "cell_type": "code",
   "execution_count": 81,
   "id": "5321742c",
   "metadata": {},
   "outputs": [
    {
     "data": {
      "text/plain": [
       "array([ 1,  2,  3,  4,  5,  6,  7,  8,  9, 10])"
      ]
     },
     "execution_count": 81,
     "metadata": {},
     "output_type": "execute_result"
    }
   ],
   "source": [
    "lst"
   ]
  },
  {
   "cell_type": "code",
   "execution_count": 82,
   "id": "88e2595b",
   "metadata": {},
   "outputs": [
    {
     "data": {
      "text/plain": [
       "array([ 6,  7,  8,  9, 10])"
      ]
     },
     "execution_count": 82,
     "metadata": {},
     "output_type": "execute_result"
    }
   ],
   "source": [
    "lst[lst > 5]"
   ]
  },
  {
   "cell_type": "code",
   "execution_count": 83,
   "id": "484f356d",
   "metadata": {},
   "outputs": [
    {
     "data": {
      "text/plain": [
       "array([3, 6, 9])"
      ]
     },
     "execution_count": 83,
     "metadata": {},
     "output_type": "execute_result"
    }
   ],
   "source": [
    "lst[lst % 3 == 0]"
   ]
  },
  {
   "cell_type": "code",
   "execution_count": 84,
   "id": "4ccdb4ef",
   "metadata": {},
   "outputs": [
    {
     "data": {
      "text/plain": [
       "3"
      ]
     },
     "execution_count": 84,
     "metadata": {},
     "output_type": "execute_result"
    }
   ],
   "source": [
    "len(lst[lst % 3 == 0])"
   ]
  },
  {
   "cell_type": "code",
   "execution_count": 93,
   "id": "022f7a7d",
   "metadata": {},
   "outputs": [
    {
     "name": "stdout",
     "output_type": "stream",
     "text": [
      "[[ 1  2  3  4  5  6  7  8  9 10]\n",
      " [20 30 40 50 60  9  8  7  6  5]]\n"
     ]
    }
   ],
   "source": [
    "\n",
    "array1 = np.array([[1, 2, 3, 4, 5],[20,30,40,50,60]])\n",
    "array2 = np.array ([[6, 7, 8, 9, 10],[9,8,7,6,5]])\n",
    "array1 = np.column_stack([array1, array2])\n",
    "print(array1)"
   ]
  },
  {
   "cell_type": "code",
   "execution_count": null,
   "id": "f6cf2342",
   "metadata": {},
   "outputs": [],
   "source": [
    "array1.sort()"
   ]
  },
  {
   "cell_type": "markdown",
   "id": "057bf9fc",
   "metadata": {},
   "source": [
    "# Mean, Variance and Standard Deviation"
   ]
  },
  {
   "cell_type": "code",
   "execution_count": 10,
   "id": "2555b535",
   "metadata": {},
   "outputs": [
    {
     "name": "stdout",
     "output_type": "stream",
     "text": [
      "[1 5 8 9 2 7 3 3 2 4]\n"
     ]
    }
   ],
   "source": [
    "arr = np.random.randint(1,10,10)\n",
    "print(arr)"
   ]
  },
  {
   "cell_type": "code",
   "execution_count": 11,
   "id": "1a70f3df",
   "metadata": {},
   "outputs": [
    {
     "name": "stdout",
     "output_type": "stream",
     "text": [
      "4.4\n"
     ]
    }
   ],
   "source": [
    "print(arr.mean())"
   ]
  },
  {
   "cell_type": "code",
   "execution_count": 12,
   "id": "b8a5334d",
   "metadata": {},
   "outputs": [
    {
     "name": "stdout",
     "output_type": "stream",
     "text": [
      "2.6153393661244038\n"
     ]
    }
   ],
   "source": [
    "print(arr.std())"
   ]
  },
  {
   "cell_type": "code",
   "execution_count": 13,
   "id": "2b26fd58",
   "metadata": {},
   "outputs": [
    {
     "name": "stdout",
     "output_type": "stream",
     "text": [
      "6.839999999999999\n"
     ]
    }
   ],
   "source": [
    "print(arr.var())"
   ]
  },
  {
   "cell_type": "markdown",
   "id": "fe47df93",
   "metadata": {},
   "source": [
    "# Transpose of an Array"
   ]
  },
  {
   "cell_type": "code",
   "execution_count": 14,
   "id": "1bc0944f",
   "metadata": {},
   "outputs": [
    {
     "name": "stdout",
     "output_type": "stream",
     "text": [
      "[[11  6  9  2]\n",
      " [14 11  9 12]\n",
      " [ 8  9 12  2]]\n"
     ]
    }
   ],
   "source": [
    "arr = np.random.randint(1,15, (3,4))\n",
    "print(arr)"
   ]
  },
  {
   "cell_type": "code",
   "execution_count": 15,
   "id": "58dbaee7",
   "metadata": {},
   "outputs": [
    {
     "name": "stdout",
     "output_type": "stream",
     "text": [
      "[[11 14  8]\n",
      " [ 6 11  9]\n",
      " [ 9  9 12]\n",
      " [ 2 12  2]]\n"
     ]
    }
   ],
   "source": [
    "print(arr.T)"
   ]
  },
  {
   "cell_type": "markdown",
   "id": "06520336",
   "metadata": {},
   "source": [
    "# Where "
   ]
  },
  {
   "cell_type": "code",
   "execution_count": 16,
   "id": "09add2d9",
   "metadata": {},
   "outputs": [
    {
     "name": "stdout",
     "output_type": "stream",
     "text": [
      "[80 49 38 21 95 50 22 79 29 55]\n"
     ]
    }
   ],
   "source": [
    "arr = np.random.randint(1,100,10)\n",
    "\n",
    "print(arr)"
   ]
  },
  {
   "cell_type": "code",
   "execution_count": 18,
   "id": "e0db8e2d",
   "metadata": {},
   "outputs": [
    {
     "name": "stdout",
     "output_type": "stream",
     "text": [
      "['even' 'odd' 'even' 'odd' 'odd' 'even' 'even' 'odd' 'odd' 'odd']\n"
     ]
    }
   ],
   "source": [
    "arr1 = np.where(arr%2 == 0, 'even', arr)\n",
    "arr1 = np.where(arr%2 != 0, 'odd', arr1)\n",
    "print(arr1)"
   ]
  },
  {
   "cell_type": "code",
   "execution_count": null,
   "id": "1a1fc9af",
   "metadata": {},
   "outputs": [],
   "source": []
  }
 ],
 "metadata": {
  "kernelspec": {
   "display_name": "Python 3 (ipykernel)",
   "language": "python",
   "name": "python3"
  },
  "language_info": {
   "codemirror_mode": {
    "name": "ipython",
    "version": 3
   },
   "file_extension": ".py",
   "mimetype": "text/x-python",
   "name": "python",
   "nbconvert_exporter": "python",
   "pygments_lexer": "ipython3",
   "version": "3.11.5"
  }
 },
 "nbformat": 4,
 "nbformat_minor": 5
}
